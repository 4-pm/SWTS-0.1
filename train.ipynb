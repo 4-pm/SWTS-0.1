{
 "cells": [
  {
   "cell_type": "code",
   "execution_count": 71,
   "id": "25655fa1",
   "metadata": {},
   "outputs": [
    {
     "data": {
      "text/plain": [
       "<matplotlib.pyplot._IonContext at 0x2e0b86990f0>"
      ]
     },
     "execution_count": 71,
     "metadata": {},
     "output_type": "execute_result"
    }
   ],
   "source": [
    "#Download the required libraries\n",
    "from __future__ import print_function, division\n",
    "\n",
    "import torch\n",
    "import torch.nn as nn\n",
    "import torch.optim as optim\n",
    "from torch.optim import lr_scheduler\n",
    "import numpy as np\n",
    "import matplotlib.pyplot as plt\n",
    "import torchvision\n",
    "from torchvision import datasets, models\n",
    "import torchvision.transforms as transforms\n",
    "import matplotlib.pyplot as plt\n",
    "import time\n",
    "import os\n",
    "import copy\n",
    "import torch.nn as nn\n",
    "import torch.nn.functional as F\n",
    "import torch.optim as optim\n",
    "from torch.autograd import Variable\n",
    "import torch.onnx\n",
    "import torchvision\n",
    "\n",
    "%matplotlib inline\n",
    "\n",
    "plt.ion()   # interactive moden"
   ]
  },
  {
   "cell_type": "code",
   "execution_count": 72,
   "id": "9dfef537",
   "metadata": {},
   "outputs": [],
   "source": [
    "# i suppose what your image folders placed in datasets directory \n",
    "data_dir= \"C:/Users/User/Rover-Trasher/\"\n",
    "\n",
    "# Data scaled and normalization for training and testing\n",
    "norm = 1.7\n",
    "data_transforms = {\n",
    "    'train': transforms.Compose([\n",
    "        transforms.RandomResizedCrop(32),\n",
    "        transforms.ToTensor(),\n",
    "        transforms.Normalize([norm, norm, norm], [norm, norm, norm])\n",
    "    ]),\n",
    "    'test': transforms.Compose([\n",
    "        transforms.RandomResizedCrop(32),\n",
    "        transforms.ToTensor(),\n",
    "        transforms.Normalize([norm, norm, norm], [norm, norm, norm])\n",
    "    ]),\n",
    "}\n",
    "\n",
    "#Create function to get your(my) images dataset and resize it to size for model\n",
    "def get_dataset(data_dir, data_transforms ):\n",
    "\n",
    "\n",
    "    # create train and test datasets\n",
    "    image_datasets = {x: datasets.ImageFolder(os.path.join(data_dir, x),\n",
    "                                              data_transforms[x])\n",
    "                      for x in ['train', 'test']}\n",
    "    dataloaders = {x: torch.utils.data.DataLoader(image_datasets[x], batch_size=4,\n",
    "                                                 shuffle=True, num_workers=4)\n",
    "                  for x in ['train', 'test']}\n",
    "    dataset_sizes = {x: len(image_datasets[x]) for x in ['train', 'test']}\n",
    "    #get classes from train dataset folders name\n",
    "    classes = image_datasets['train'].classes\n",
    "\n",
    "    return dataloaders[\"train\"], dataloaders['test'], classes, dataset_sizes"
   ]
  },
  {
   "cell_type": "code",
   "execution_count": 73,
   "id": "7b645ff2",
   "metadata": {},
   "outputs": [
    {
     "name": "stdout",
     "output_type": "stream",
     "text": [
      "Classes:  ['nopaper', 'paper']\n",
      "The datasest have:  {'train': 36, 'test': 4}  images\n"
     ]
    }
   ],
   "source": [
    "# get train and test data\n",
    "trainloader, testloader, classes, dataset_sizes = get_dataset(data_dir, data_transforms)\n",
    "print('Classes: ',  classes)\n",
    "print('The datasest have: ',  dataset_sizes ,\" images\")"
   ]
  },
  {
   "cell_type": "code",
   "execution_count": 74,
   "id": "99732790",
   "metadata": {},
   "outputs": [
    {
     "data": {
      "image/png": "[encoded data removed]",
      "text/plain": [
       "<Figure size 432x288 with 1 Axes>"
      ]
     },
     "metadata": {
      "needs_background": "light"
     },
     "output_type": "display_data"
    },
    {
     "name": "stdout",
     "output_type": "stream",
     "text": [
      "nopaper nopaper nopaper nopaper\n"
     ]
    }
   ],
   "source": [
    "# create function for print unnormalized images\n",
    "def imshow(img):\n",
    "    img = img / 2 + 0.5      # unnormalize\n",
    "    npimg = img.numpy()\n",
    "    plt.imshow(np.transpose(npimg, (1, 2, 0)))\n",
    "    plt.show()\n",
    "\n",
    "\n",
    "# get some random training images\n",
    "dataiter = iter(trainloader)\n",
    "images, labels = next(dataiter)\n",
    "#images, labels = dataiter.next()\n",
    "\n",
    "# show images\n",
    "imshow(torchvision.utils.make_grid(images))\n",
    "# print labels\n",
    "print(' '.join('%5s' % classes[labels[j]] for j in range(4)))"
   ]
  },
  {
   "cell_type": "code",
   "execution_count": 75,
   "id": "516c43ee",
   "metadata": {},
   "outputs": [
    {
     "name": "stdout",
     "output_type": "stream",
     "text": [
      "Net(\n",
      "  (conv1): Conv2d(3, 6, kernel_size=(5, 5), stride=(1, 1))\n",
      "  (pool): MaxPool2d(kernel_size=2, stride=2, padding=0, dilation=1, ceil_mode=False)\n",
      "  (conv2): Conv2d(6, 16, kernel_size=(5, 5), stride=(1, 1))\n",
      "  (fc1): Linear(in_features=400, out_features=120, bias=True)\n",
      "  (fc2): Linear(in_features=120, out_features=84, bias=True)\n",
      "  (fc3): Linear(in_features=84, out_features=2, bias=True)\n",
      ")\n"
     ]
    }
   ],
   "source": [
    "class Net(nn.Module):\n",
    "    def __init__(self):\n",
    "        super(Net, self).__init__()\n",
    "        self.conv1 = nn.Conv2d(3, 6, 5)\n",
    "        self.pool = nn.MaxPool2d(2, 2)\n",
    "        self.conv2 = nn.Conv2d(6, 16, 5)\n",
    "        self.fc1 = nn.Linear(16 * 5 * 5, 120)\n",
    "        self.fc2 = nn.Linear(120, 84)\n",
    "        self.fc3 = nn.Linear(84, 2)\n",
    "\n",
    "    def forward(self, x):\n",
    "        x = self.pool(F.relu(self.conv1(x)))\n",
    "        x = self.pool(F.relu(self.conv2(x)))\n",
    "        x = x.view(-1, 16 * 5 * 5 )\n",
    "        x = F.relu(self.fc1(x))\n",
    "        x = F.relu(self.fc2(x))\n",
    "        x = self.fc3(x)\n",
    "        return x\n",
    "\n",
    "\n",
    "net = Net()\n",
    "print(net)"
   ]
  },
  {
   "cell_type": "code",
   "execution_count": 76,
   "id": "4b3b197a",
   "metadata": {},
   "outputs": [],
   "source": [
    "criterion = nn.CrossEntropyLoss()\n",
    "optimizer = optim.SGD(net.parameters(), lr=0.001, momentum=0.9)\n",
    "device = torch.device(\"cuda\")"
   ]
  },
  {
   "cell_type": "code",
   "execution_count": 77,
   "id": "12b322bf",
   "metadata": {},
   "outputs": [
    {
     "name": "stdout",
     "output_type": "stream",
     "text": [
      "0 0.04621145725250244\n",
      "0 0.09295663833618165\n",
      "0 0.13869660298029582\n",
      "0 0.18547815084457397\n",
      "0 0.2317322055498759\n",
      "0 0.2774925589561462\n",
      "0 0.32325268189112344\n",
      "0 0.3699672142664591\n",
      "0 0.417218005657196\n",
      "1 0.04671979347864787\n",
      "1 0.09339466094970703\n",
      "1 0.13922130664189655\n",
      "1 0.18506236076354982\n",
      "1 0.23127388159434\n",
      "1 0.2774821360905965\n",
      "1 0.3236847400665283\n",
      "1 0.37023624976476033\n",
      "1 0.41674749851226806\n",
      "2 0.04618325233459473\n",
      "2 0.0918994943300883\n",
      "2 0.13787535429000855\n",
      "2 0.1843113859494527\n",
      "2 0.23077457745869953\n",
      "2 0.2772067626317342\n",
      "2 0.32384231090545657\n",
      "2 0.37001760800679523\n",
      "2 0.4162129044532776\n",
      "3 0.04618975321451823\n",
      "3 0.09241884152094523\n",
      "3 0.13859910567601522\n",
      "3 0.18489950100580851\n",
      "3 0.23115202983220418\n",
      "3 0.2773517568906148\n",
      "3 0.3233836889266968\n",
      "3 0.3694022576014201\n",
      "3 0.4155689040819804\n",
      "4 0.04614263375600179\n",
      "4 0.09277949333190919\n",
      "4 0.1392053763071696\n",
      "4 0.1850967248280843\n",
      "4 0.23150323232014974\n",
      "4 0.2771854639053345\n",
      "4 0.3227979342142741\n",
      "4 0.3686829487482707\n",
      "4 0.41484886407852173\n",
      "Finished Training\n"
     ]
    }
   ],
   "source": [
    "for epoch in range(5):  # loop over the dataset multiple times\n",
    "\n",
    "    running_loss = 0.0\n",
    "    for i, data in enumerate(trainloader, 0):\n",
    "        # get the inputs; data is a list of [inputs, labels]\n",
    "        inputs, labels = data\n",
    "\n",
    "        # zero the parameter gradients\n",
    "        optimizer.zero_grad()\n",
    "\n",
    "        # forward + backward + optimize\n",
    "        outputs = net(inputs)\n",
    "        loss = criterion(outputs, labels)\n",
    "        loss.backward()\n",
    "        optimizer.step()\n",
    "\n",
    "        # print statistics\n",
    "        running_loss += loss.item()\n",
    "        print(epoch, running_loss / 15)\n",
    "        '''if i % 15 == 14:    # print every 15 mini-batches\n",
    "            print('[%d, %5d] loss: %.3f' %\n",
    "                  (epoch + 1, i + 1, running_loss / 15))\n",
    "            running_loss = 0.0'''\n",
    "\n",
    "print('Finished Training')"
   ]
  },
  {
   "cell_type": "code",
   "execution_count": 78,
   "id": "8933fec0",
   "metadata": {},
   "outputs": [
    {
     "name": "stdout",
     "output_type": "stream",
     "text": [
      "Predict class - paper, real class - paper, probability (nopaper,paper) - tensor([0.1146, 0.1365])\n",
      "Predict class - paper, real class - nopaper, probability (nopaper,paper) - tensor([0.1171, 0.1373])\n",
      "Predict class - paper, real class - paper, probability (nopaper,paper) - tensor([0.1153, 0.1385])\n",
      "Predict class - paper, real class - nopaper, probability (nopaper,paper) - tensor([0.1169, 0.1376])\n"
     ]
    },
    {
     "data": {
      "image/png": "[encoded data removed]",
      "text/plain": [
       "<Figure size 432x288 with 1 Axes>"
      ]
     },
     "metadata": {
      "needs_background": "light"
     },
     "output_type": "display_data"
    },
    {
     "name": "stdout",
     "output_type": "stream",
     "text": [
      "GroundTruth:  paper paper paper paper\n"
     ]
    }
   ],
   "source": [
    "correct = 0\n",
    "total = 0\n",
    "with torch.no_grad():\n",
    "    for data in testloader:\n",
    "        images, labels = data\n",
    "        outputs = net(images)\n",
    "        _, predicted = torch.max(outputs.data, 1)\n",
    "        \n",
    "        for printdata in list(zip(predicted,labels,outputs)):\n",
    "            printclass =[classes[int(printdata[0])],classes[int(printdata[1])]]\n",
    "            print('Predict class - {0}, real class - {1}, probability ({2},{3}) - {4}'.format( printclass[0],printclass[1],\n",
    "                                                                              classes[0], classes [1],printdata[2]))\n",
    "\n",
    "        total += labels.size(0)\n",
    "        correct += (predicted == labels).sum().item()\n",
    "        imshow(torchvision.utils.make_grid(images))\n",
    "        print('GroundTruth: ', ' '.join('%5s' % classes[predicted[j]] for j in range(4)))"
   ]
  },
  {
   "cell_type": "code",
   "execution_count": 79,
   "id": "a92c6d58",
   "metadata": {},
   "outputs": [],
   "source": [
    "torch.save(net.state_dict(), \"models/model1.pth\")"
   ]
  },
  {
   "cell_type": "code",
   "execution_count": 80,
   "id": "cfd36a5a",
   "metadata": {},
   "outputs": [
    {
     "name": "stdout",
     "output_type": "stream",
     "text": [
      "Predict class - paper, real class - paper, probability (nopaper,paper) - tensor([0.1155, 0.1379])\n",
      "Predict class - paper, real class - paper, probability (nopaper,paper) - tensor([0.1129, 0.1350])\n",
      "Predict class - paper, real class - nopaper, probability (nopaper,paper) - tensor([0.1168, 0.1372])\n",
      "Predict class - paper, real class - nopaper, probability (nopaper,paper) - tensor([0.1168, 0.1377])\n"
     ]
    },
    {
     "data": {
      "image/png": "[encoded data removed]",
      "text/plain": [
       "<Figure size 432x288 with 1 Axes>"
      ]
     },
     "metadata": {
      "needs_background": "light"
     },
     "output_type": "display_data"
    },
    {
     "name": "stdout",
     "output_type": "stream",
     "text": [
      "Accuracy of the network on the 4 test images: 50 %\n"
     ]
    }
   ],
   "source": [
    "net = Net()\n",
    "net.load_state_dict(torch.load('models/model1.pth'))\n",
    "\n",
    "correct = 0\n",
    "total = 0\n",
    "with torch.no_grad():\n",
    "    for data in testloader:\n",
    "        images, labels = data\n",
    "        outputs = net(images)\n",
    "        _, predicted = torch.max(outputs.data, 1)\n",
    "        \n",
    "        for printdata in list(zip(predicted,labels,outputs)):\n",
    "            printclass =[classes[int(printdata[0])],classes[int(printdata[1])]]\n",
    "            print('Predict class - {0}, real class - {1}, probability ({2},{3}) - {4}'.format( printclass[0],printclass[1],\n",
    "                                                                              classes[0], classes [1],printdata[2]))\n",
    "\n",
    "        total += labels.size(0)\n",
    "        correct += (predicted == labels).sum().item()\n",
    "        imshow(torchvision.utils.make_grid(images))\n",
    "        #print('GroundTruth: ', ' '.join('%5s' % classes[predicted[j]] for j in range(4)))\n",
    "print('Accuracy of the network on the', dataset_sizes['test'], 'test images: %d %%' % (\n",
    "    100 * correct / total))"
   ]
  },
  {
   "cell_type": "code",
   "execution_count": 81,
   "id": "085e84db",
   "metadata": {},
   "outputs": [],
   "source": [
    "PATH = \"models/model.onnx\"\n",
    "dummy_input = Variable(torch.randn(1, 3, 32, 32))\n",
    "torch.onnx.export(net, dummy_input, PATH)"
   ]
  }
 ],
 "metadata": {
  "interpreter": {
   "hash": "82d4c6f819cf47785f735f902f00da8643513d08dab4f4c7470bccf934b8d2d6"
  },
  "kernelspec": {
   "display_name": "Python 3.7.0 64-bit",
   "language": "python",
   "name": "python3"
  },
  "language_info": {
   "codemirror_mode": {
    "name": "ipython",
    "version": 3
   },
   "file_extension": ".py",
   "mimetype": "text/x-python",
   "name": "python",
   "nbconvert_exporter": "python",
   "pygments_lexer": "ipython3",
   "version": "3.7.0"
  }
 },
 "nbformat": 4,
 "nbformat_minor": 5
}
